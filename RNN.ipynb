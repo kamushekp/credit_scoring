{
 "cells": [
  {
   "cell_type": "code",
   "execution_count": 1,
   "id": "99ce1dfa",
   "metadata": {},
   "outputs": [
    {
     "name": "stderr",
     "output_type": "stream",
     "text": [
      "C:\\Users\\kamus\\AppData\\Local\\Programs\\Python\\Python310\\lib\\site-packages\\tqdm\\auto.py:22: TqdmWarning: IProgress not found. Please update jupyter and ipywidgets. See https://ipywidgets.readthedocs.io/en/stable/user_install.html\n",
      "  from .autonotebook import tqdm as notebook_tqdm\n"
     ]
    }
   ],
   "source": [
    "import pandas as pd\n",
    "import numpy as np\n",
    "from tqdm import tqdm\n",
    "import os\n",
    "import gc\n",
    "\n",
    "import torch.nn as nn\n",
    "import torch\n",
    "import random"
   ]
  },
  {
   "cell_type": "code",
   "execution_count": 2,
   "id": "80e8ce4b",
   "metadata": {},
   "outputs": [
    {
     "data": {
      "text/plain": [
       "12"
      ]
     },
     "execution_count": 2,
     "metadata": {},
     "output_type": "execute_result"
    }
   ],
   "source": [
    "os.cpu_count()"
   ]
  },
  {
   "cell_type": "code",
   "execution_count": 3,
   "id": "3a3b76e7",
   "metadata": {},
   "outputs": [
    {
     "name": "stdout",
     "output_type": "stream",
     "text": [
      "1\n",
      "cuda\n"
     ]
    }
   ],
   "source": [
    "import torch\n",
    "print(torch.cuda.device_count())\n",
    "device = 'cuda' if torch.cuda.is_available() else 'cpu'\n",
    "print(device)"
   ]
  },
  {
   "cell_type": "code",
   "execution_count": 4,
   "id": "74f21be0",
   "metadata": {},
   "outputs": [],
   "source": [
    "SEED = 42\n",
    "\n",
    "random.seed(SEED)\n",
    "np.random.seed(SEED)\n",
    "torch.manual_seed(SEED)\n",
    "torch.cuda.manual_seed(SEED)\n",
    "torch.backends.cudnn.deterministic = True"
   ]
  },
  {
   "cell_type": "code",
   "execution_count": 5,
   "id": "f1776ec1",
   "metadata": {},
   "outputs": [],
   "source": [
    "mapping = {'pre_since_opened': (20, 9),\n",
    " 'pre_since_confirmed': (18, 8),\n",
    " 'pre_pterm': (18, 8),\n",
    " 'pre_fterm': (17, 8),\n",
    " 'pre_till_pclose': (17, 8),\n",
    " 'pre_till_fclose': (16, 8),\n",
    " 'pre_loans_credit_limit': (20, 9),\n",
    " 'pre_loans_next_pay_summ': (8, 5),\n",
    " 'pre_loans_outstanding': (6, 4),\n",
    " 'pre_loans_total_overdue': (2, 2),\n",
    " 'pre_loans_max_overdue_sum': (4, 3),\n",
    " 'pre_loans_credit_cost_rate': (14, 7),\n",
    " 'pre_loans5': (18, 8),\n",
    " 'pre_loans530': (20, 9),\n",
    " 'pre_loans3060': (10, 6),\n",
    " 'pre_loans6090': (6, 4),\n",
    " 'pre_loans90': (20, 9),\n",
    " 'is_zero_loans5': (2, 2),\n",
    " 'is_zero_loans530': (2, 2),\n",
    " 'is_zero_loans3060': (2, 2),\n",
    " 'is_zero_loans6090': (2, 2),\n",
    " 'is_zero_loans90': (2, 2),\n",
    " 'pre_util': (20, 9),\n",
    " 'pre_over2limit': (20, 9),\n",
    " 'pre_maxover2limit': (20, 9),\n",
    " 'is_zero_util': (2, 2),\n",
    " 'is_zero_over2limit': (2, 2),\n",
    " 'is_zero_maxover2limit': (2, 2),\n",
    " 'enc_paym_0': (4, 3),\n",
    " 'enc_paym_1': (4, 3),\n",
    " 'enc_paym_2': (4, 3),\n",
    " 'enc_paym_3': (4, 3),\n",
    " 'enc_paym_4': (4, 3),\n",
    " 'enc_paym_5': (4, 3),\n",
    " 'enc_paym_6': (4, 3),\n",
    " 'enc_paym_7': (4, 3),\n",
    " 'enc_paym_8': (4, 3),\n",
    " 'enc_paym_9': (4, 3),\n",
    " 'enc_paym_10': (4, 3),\n",
    " 'enc_paym_11': (5, 4),\n",
    " 'enc_paym_12': (4, 3),\n",
    " 'enc_paym_13': (4, 3),\n",
    " 'enc_paym_14': (4, 3),\n",
    " 'enc_paym_15': (4, 3),\n",
    " 'enc_paym_16': (4, 3),\n",
    " 'enc_paym_17': (4, 3),\n",
    " 'enc_paym_18': (4, 3),\n",
    " 'enc_paym_19': (4, 3),\n",
    " 'enc_paym_20': (5, 4),\n",
    " 'enc_paym_21': (4, 3),\n",
    " 'enc_paym_22': (4, 3),\n",
    " 'enc_paym_23': (4, 3),\n",
    " 'enc_paym_24': (5, 4),\n",
    " 'enc_loans_account_holder_type': (7, 5),\n",
    " 'enc_loans_credit_status': (7, 5),\n",
    " 'enc_loans_credit_type': (8, 5),\n",
    " 'enc_loans_account_cur': (4, 3),\n",
    " 'pclose_flag': (2, 2),\n",
    " 'fclose_flag': (2, 2)}"
   ]
  },
  {
   "cell_type": "code",
   "execution_count": 6,
   "id": "750ceeb1",
   "metadata": {},
   "outputs": [],
   "source": [
    "def create_embedding_projection(cardinality, embed_size, add_missing=True):\n",
    "    add_missing = 1 if add_missing else 0\n",
    "    return nn.Embedding(num_embeddings=cardinality+add_missing, embedding_dim=embed_size)"
   ]
  },
  {
   "cell_type": "code",
   "execution_count": null,
   "id": "7e7632fe",
   "metadata": {},
   "outputs": [],
   "source": []
  },
  {
   "cell_type": "code",
   "execution_count": 7,
   "id": "4e0d0e27",
   "metadata": {},
   "outputs": [],
   "source": [
    "def pad_sequence(array: np.ndarray, max_len) -> np.ndarray:\n",
    "    output = np.zeros((max_len, 59))\n",
    "    output[:array.shape[0], :] = array\n",
    "    return output"
   ]
  },
  {
   "cell_type": "code",
   "execution_count": 109,
   "id": "395f6dbc",
   "metadata": {},
   "outputs": [],
   "source": [
    "def get_embedding_projection():    \n",
    "    data = pd.read_parquet('train_data/train_data_00.pq')[:10]\n",
    "    features = data.columns.tolist()\n",
    "    features.remove('id')\n",
    "    features.remove('rn')\n",
    "    embedding_projection = [create_embedding_projection(*mapping[e]) for e in features]\n",
    "    embedding_general_output_size = sum([mapping[e][1] for e in features])\n",
    "    return embedding_projection, embedding_general_output_size\n",
    "    \n",
    "\n",
    "def read_file(file_path, is_train=True):\n",
    "    data = pd.read_parquet(file_path)\n",
    "    \n",
    "    data.drop(columns=['rn'], inplace=True)\n",
    "    data = data.groupby(['id']).agg(list).agg(list, axis=\"columns\").reset_index()\n",
    "    data[0]=data[0].apply(lambda x:(np.array(x) + 1).T) ##becaouse of padding value = 0\n",
    "    \n",
    "    if is_train:\n",
    "        target = pd.read_csv('train_target.csv')    \n",
    "        data_target = data.merge(target, on=\"id\")\n",
    "        return data_target\n",
    "    else:\n",
    "        return data\n",
    "\n",
    "\n",
    "def read_folder(folder_path, is_train=True):\n",
    "    dfs = []\n",
    "    dataset_paths = [os.path.join(folder_path, filename) for filename in os.listdir(folder_path)]\n",
    "    for f in tqdm(dataset_paths, total=len(dataset_paths)):\n",
    "        dfs.append(read_file(f, is_train))\n",
    "    df = pd.concat(dfs)\n",
    "            \n",
    "    df['lengths'] = df[0].apply(lambda x: x.shape[0])\n",
    "    buckets = [(0, 10), (10, 20), (20, 30), (30, 60)]\n",
    "    for start, to in buckets:\n",
    "        mini_df = df[(df['lengths'] > start) & (df['lengths'] <= to)]\n",
    "        sorted_mini_df = mini_df.sort_values(by=['lengths'], ascending=False)\n",
    "        sorted_mini_df[0] = sorted_mini_df[0].apply(lambda x: pad_sequence(x, to))\n",
    "        sorted_mini_df = sorted_mini_df.sample(frac=1, random_state=SEED)\n",
    "        lengths = torch.Tensor(sorted_mini_df['lengths'].values)    \n",
    "        X = torch.LongTensor(np.stack(sorted_mini_df[0].values))\n",
    "        \n",
    "        if is_train:        \n",
    "            y = torch.Tensor(sorted_mini_df['flag'].values)\n",
    "            yield to, X, lengths, y\n",
    "        else:\n",
    "            Id = torch.Tensor(sorted_mini_df['id'].values)    \n",
    "            yield to, X, lengths, Id\n",
    "    \n",
    "def save_for_reusage(read_folder_result, is_train=True):\n",
    "    if is_train:\n",
    "        to, X, lengths, y = read_folder_result\n",
    "        \n",
    "        torch.save(X, f'train_tensors/X_{to}.pt')\n",
    "        torch.save(lengths, f'train_tensors/lengths_{to}.pt')\n",
    "        torch.save(y, f'train_tensors/y_{to}.pt')\n",
    "    else:\n",
    "        \n",
    "        to, X, lengths, Ids = read_folder_result\n",
    "        \n",
    "        torch.save(X, f'test_tensors/X_{to}.pt')\n",
    "        torch.save(lengths, f'test_tensors/lengths_{to}.pt')\n",
    "        torch.save(Ids, f'test_tensors/ids_{to}.pt')\n",
    "        \n",
    "def upload(is_train=True):\n",
    "    if is_train:\n",
    "        folder_path = 'train_data'\n",
    "    else:\n",
    "        folder_path = 'test_data'\n",
    "        \n",
    "    for read_folder_result in read_folder(folder_path, is_train):        \n",
    "        save_for_reusage(read_folder_result, is_train)\n",
    "        \n",
    "def get_uploaded(is_train=True):\n",
    "    if is_train:\n",
    "        folder_path = 'train_tensors'\n",
    "    else:\n",
    "        folder_path = 'test_tensors'\n",
    "    \n",
    "    sets = [10, 20, 30, 60]\n",
    "    for padding_set in sets:\n",
    "        res = []\n",
    "        X = torch.load(f'{folder_path}/X_{padding_set}.pt')\n",
    "        lengths = torch.load(f'{folder_path}/lengths_{padding_set}.pt')\n",
    "        res.append(X)\n",
    "        res.append(lengths)\n",
    "        \n",
    "        if is_train:\n",
    "            y = torch.load(f'{folder_path}/y_{padding_set}.pt')\n",
    "            res.append(y)\n",
    "        else:\n",
    "            ids = torch.load(f'{folder_path}/ids_{padding_set}.pt')\n",
    "            res.append(ids)\n",
    "            \n",
    "            \n",
    "        yield res\n",
    "        \n",
    "batch_size = 512\n",
    "def get_uploaded_tensors(is_train=True):\n",
    "    if is_train:\n",
    "        for X, l, y in get_uploaded(is_train):\n",
    "            batches_count = X.shape[0] // batch_size\n",
    "            for _X, _y in zip(torch.tensor_split(X, batches_count, dim=0), torch.tensor_split(y, batches_count, dim=0)):\n",
    "                yield _X, _y\n",
    "    else:\n",
    "        for X, l, Id in get_uploaded(is_train):\n",
    "            batches_count = X.shape[0] // batch_size\n",
    "            for _X, _id in zip(torch.tensor_split(X, batches_count, dim=0), torch.tensor_split(Id, batches_count, dim=0)):\n",
    "                yield _X, _id\n",
    "        \n",
    "    "
   ]
  },
  {
   "cell_type": "code",
   "execution_count": 12,
   "id": "3be22d73",
   "metadata": {},
   "outputs": [
    {
     "name": "stderr",
     "output_type": "stream",
     "text": [
      "100%|█████████████████████████████████████████████████████████████████████████████████| 12/12 [46:21<00:00, 231.81s/it]\n"
     ]
    }
   ],
   "source": [
    "upload()"
   ]
  },
  {
   "cell_type": "code",
   "execution_count": 51,
   "id": "70c3a2f4",
   "metadata": {},
   "outputs": [
    {
     "name": "stderr",
     "output_type": "stream",
     "text": [
      "100%|███████████████████████████████████████████████████████████████████████████████████| 2/2 [07:38<00:00, 229.48s/it]\n"
     ]
    }
   ],
   "source": [
    "upload(False)"
   ]
  },
  {
   "cell_type": "code",
   "execution_count": 102,
   "id": "4be189c2",
   "metadata": {},
   "outputs": [],
   "source": [
    "embedding_projection, embedding_general_output_size = get_embedding_projection()"
   ]
  },
  {
   "cell_type": "code",
   "execution_count": 103,
   "id": "f3b798d4",
   "metadata": {},
   "outputs": [],
   "source": [
    "class Encoder(nn.Module):\n",
    "    def __init__(self, enc_hid_dim):\n",
    "        super().__init__()        \n",
    "        self.embeddings = nn.ModuleList(embedding_projection)\n",
    "        self.credits_rnn = nn.GRU(embedding_general_output_size, enc_hid_dim, batch_first=True, bidirectional =True)\n",
    "        self.relu = nn.ReLU()\n",
    "        self.fc =nn.Linear(in_features=enc_hid_dim * 2, out_features=1)\n",
    "        \n",
    "        \n",
    "    def forward(self, X):\n",
    "        embeddings =  [emb(tensor) for emb, tensor in zip(self.embeddings, torch.tensor_split(X, 59, dim=-1))]\n",
    "        concatted_emb = torch.squeeze(torch.cat(embeddings, dim=-1))\n",
    "\n",
    "        rnn_output, hidden_credits_rnn = self.credits_rnn(concatted_emb)\n",
    "\n",
    "        rnn_stack = torch.cat([hidden_credits_rnn[0],hidden_credits_rnn[1]], dim=-1) #torch.Size([931, 400])\n",
    "        output = self.fc(self.relu(rnn_stack))\n",
    "        return output\n"
   ]
  },
  {
   "cell_type": "code",
   "execution_count": null,
   "id": "2fe91e03",
   "metadata": {},
   "outputs": [],
   "source": []
  },
  {
   "cell_type": "code",
   "execution_count": null,
   "id": "1e36be4a",
   "metadata": {},
   "outputs": [],
   "source": []
  },
  {
   "cell_type": "code",
   "execution_count": 104,
   "id": "8a6fb456",
   "metadata": {},
   "outputs": [
    {
     "name": "stderr",
     "output_type": "stream",
     "text": [
      "Loss:0.2434813231229782: 100%|████████████████████████████████████████████████████▉| 1463/1464 [01:53<00:00, 12.93it/s]\n"
     ]
    },
    {
     "name": "stdout",
     "output_type": "stream",
     "text": [
      "epoch: 0. Loss: 19.933428063988686\n"
     ]
    },
    {
     "name": "stderr",
     "output_type": "stream",
     "text": [
      "Loss:0.24194878339767456: 100%|███████████████████████████████████████████████████▉| 1463/1464 [01:48<00:00, 13.52it/s]\n"
     ]
    },
    {
     "name": "stdout",
     "output_type": "stream",
     "text": [
      "epoch: 1. Loss: 19.86424171924591\n"
     ]
    },
    {
     "name": "stderr",
     "output_type": "stream",
     "text": [
      "Loss:0.23853303492069244: 100%|███████████████████████████████████████████████████▉| 1463/1464 [01:49<00:00, 13.33it/s]\n"
     ]
    },
    {
     "name": "stdout",
     "output_type": "stream",
     "text": [
      "epoch: 2. Loss: 19.744134418666363\n"
     ]
    },
    {
     "name": "stderr",
     "output_type": "stream",
     "text": [
      "Loss:0.2373165488243103: 100%|████████████████████████████████████████████████████▉| 1463/1464 [01:49<00:00, 13.34it/s]\n"
     ]
    },
    {
     "name": "stdout",
     "output_type": "stream",
     "text": [
      "epoch: 3. Loss: 19.727617651224136\n"
     ]
    },
    {
     "name": "stderr",
     "output_type": "stream",
     "text": [
      "Loss:0.23547708988189697: 100%|███████████████████████████████████████████████████▉| 1463/1464 [01:50<00:00, 13.29it/s]\n"
     ]
    },
    {
     "name": "stdout",
     "output_type": "stream",
     "text": [
      "epoch: 4. Loss: 19.77049759030342\n"
     ]
    }
   ],
   "source": [
    "torch.cuda.empty_cache()\n",
    "enc = Encoder(200)\n",
    "enc = enc.to(device)\n",
    "\n",
    "losses = []\n",
    "\n",
    "loss_function = nn.BCEWithLogitsLoss(reduction=\"none\")\n",
    "optimizer = torch.optim.Adam(enc.parameters())\n",
    "\n",
    "\n",
    "for i in range(5):\n",
    "    enc.train()\n",
    "    valid = []\n",
    "    j = 0\n",
    "    for x,y in (pbar := tqdm(get_uploaded_tensors(), total=int(3e+6) // batch_size)):\n",
    "        j+=1\n",
    "        if j % 10 == 0:\n",
    "            valid.append((x,y))\n",
    "            continue\n",
    "        x=x.to(device)\n",
    "        y=y.to(device)\n",
    "        optimizer.zero_grad()\n",
    "        output = torch.squeeze(enc.forward(x))\n",
    "        loss = loss_function(output, y).mean()\n",
    "        loss.backward()\n",
    "        optimizer.step()\n",
    "        losses.append(loss)\n",
    "        pbar.set_description(f\"Loss:{loss}\")\n",
    "        \n",
    "    enc.eval()\n",
    "    eval_loss = 0\n",
    "    for x,y in valid:\n",
    "        x=x.to(device)\n",
    "        y=y.to(device)\n",
    "        output = torch.squeeze(enc.forward(x))\n",
    "        loss = loss_function(output, y).mean()\n",
    "        eval_loss += loss.item()\n",
    "        \n",
    "    print(f'epoch: {i}. Loss: {eval_loss}')\n",
    "        \n",
    "    "
   ]
  },
  {
   "cell_type": "code",
   "execution_count": 105,
   "id": "f102530c",
   "metadata": {},
   "outputs": [
    {
     "data": {
      "text/plain": [
       "[<matplotlib.lines.Line2D at 0x1f508bf3040>]"
      ]
     },
     "execution_count": 105,
     "metadata": {},
     "output_type": "execute_result"
    },
    {
     "data": {
      "image/png": "[encoded data removed]",
      "text/plain": [
       "<Figure size 432x288 with 1 Axes>"
      ]
     },
     "metadata": {
      "needs_background": "light"
     },
     "output_type": "display_data"
    }
   ],
   "source": [
    "import matplotlib.pyplot as plt\n",
    "plt.plot(list(range(len(losses))), [l.detach().cpu().item() for l in losses])"
   ]
  },
  {
   "cell_type": "code",
   "execution_count": 106,
   "id": "328ef34a",
   "metadata": {},
   "outputs": [],
   "source": [
    "enc = enc.eval()\n",
    "#enc"
   ]
  },
  {
   "cell_type": "code",
   "execution_count": 107,
   "id": "65e90100",
   "metadata": {},
   "outputs": [
    {
     "data": {
      "text/html": [
       "<div>\n",
       "<style scoped>\n",
       "    .dataframe tbody tr th:only-of-type {\n",
       "        vertical-align: middle;\n",
       "    }\n",
       "\n",
       "    .dataframe tbody tr th {\n",
       "        vertical-align: top;\n",
       "    }\n",
       "\n",
       "    .dataframe thead th {\n",
       "        text-align: right;\n",
       "    }\n",
       "</style>\n",
       "<table border=\"1\" class=\"dataframe\">\n",
       "  <thead>\n",
       "    <tr style=\"text-align: right;\">\n",
       "      <th></th>\n",
       "      <th>id</th>\n",
       "    </tr>\n",
       "  </thead>\n",
       "  <tbody>\n",
       "    <tr>\n",
       "      <th>0</th>\n",
       "      <td>3000000</td>\n",
       "    </tr>\n",
       "    <tr>\n",
       "      <th>1</th>\n",
       "      <td>3000001</td>\n",
       "    </tr>\n",
       "    <tr>\n",
       "      <th>2</th>\n",
       "      <td>3000002</td>\n",
       "    </tr>\n",
       "    <tr>\n",
       "      <th>3</th>\n",
       "      <td>3000003</td>\n",
       "    </tr>\n",
       "    <tr>\n",
       "      <th>4</th>\n",
       "      <td>3000004</td>\n",
       "    </tr>\n",
       "  </tbody>\n",
       "</table>\n",
       "</div>"
      ],
      "text/plain": [
       "        id\n",
       "0  3000000\n",
       "1  3000001\n",
       "2  3000002\n",
       "3  3000003\n",
       "4  3000004"
      ]
     },
     "execution_count": 107,
     "metadata": {},
     "output_type": "execute_result"
    }
   ],
   "source": [
    "test_target=pd.read_csv('test_target.csv')\n",
    "test_target.head()"
   ]
  },
  {
   "cell_type": "code",
   "execution_count": 110,
   "id": "50f82cac",
   "metadata": {},
   "outputs": [],
   "source": [
    "preds = []\n",
    "indexes=[]\n",
    "for x, Id in get_uploaded_tensors(False):\n",
    "    x = x.to(device)\n",
    "    score=enc.forward(x)\n",
    "    sigm = torch.sigmoid(score)\n",
    "    for pred, _id in zip (np.squeeze(sigm.detach().cpu().numpy()), Id.detach().cpu().numpy()):\n",
    "        preds.append(pred)\n",
    "        indexes.append(_id)"
   ]
  },
  {
   "cell_type": "code",
   "execution_count": 111,
   "id": "656f250b",
   "metadata": {},
   "outputs": [],
   "source": [
    "pd.DataFrame(data={'id':[int(e) for e in indexes], 'score':preds}).sort_values(by=['id']).to_csv('1_epoch.csv',index=False)"
   ]
  },
  {
   "cell_type": "code",
   "execution_count": null,
   "id": "59f18bfd",
   "metadata": {},
   "outputs": [],
   "source": []
  },
  {
   "cell_type": "code",
   "execution_count": 55,
   "id": "a0af55e6",
   "metadata": {},
   "outputs": [
    {
     "data": {
      "text/plain": [
       "torch.Size([257, 10, 59])"
      ]
     },
     "execution_count": 55,
     "metadata": {},
     "output_type": "execute_result"
    }
   ],
   "source": [
    "x.shape"
   ]
  },
  {
   "cell_type": "code",
   "execution_count": 57,
   "id": "99aa04b7",
   "metadata": {},
   "outputs": [
    {
     "data": {
      "text/plain": [
       "torch.Size([257])"
      ]
     },
     "execution_count": 57,
     "metadata": {},
     "output_type": "execute_result"
    }
   ],
   "source": [
    "Id.shape"
   ]
  },
  {
   "cell_type": "code",
   "execution_count": null,
   "id": "fb733089",
   "metadata": {},
   "outputs": [],
   "source": [
    "def predict(row):\n",
    "    X = torch.LongTensor(row[0])\n",
    "    X = X.to(device)\n",
    "    lengths = torch.LongTensor([row['lengths']])\n",
    "    score = enc.forward(X, lengths)\n",
    "    sigm = torch.sigmoid(score).item()\n",
    "    del X\n",
    "    return sigm"
   ]
  },
  {
   "cell_type": "code",
   "execution_count": null,
   "id": "4b91d140",
   "metadata": {},
   "outputs": [],
   "source": []
  },
  {
   "cell_type": "code",
   "execution_count": null,
   "id": "0ebaa97b",
   "metadata": {},
   "outputs": [],
   "source": [
    "df['score'] = df.apply(lambda row: predict(row), axis=1)"
   ]
  },
  {
   "cell_type": "code",
   "execution_count": null,
   "id": "b43cb560",
   "metadata": {},
   "outputs": [],
   "source": [
    "df['score'].describe()"
   ]
  },
  {
   "cell_type": "code",
   "execution_count": null,
   "id": "13937264",
   "metadata": {},
   "outputs": [],
   "source": [
    "df[['id', 'score']].to_csv('1_epoch.csv',index=False)"
   ]
  }
 ],
 "metadata": {
  "kernelspec": {
   "display_name": "Python 3 (ipykernel)",
   "language": "python",
   "name": "python3"
  },
  "language_info": {
   "codemirror_mode": {
    "name": "ipython",
    "version": 3
   },
   "file_extension": ".py",
   "mimetype": "text/x-python",
   "name": "python",
   "nbconvert_exporter": "python",
   "pygments_lexer": "ipython3",
   "version": "3.10.5"
  }
 },
 "nbformat": 4,
 "nbformat_minor": 5
}
